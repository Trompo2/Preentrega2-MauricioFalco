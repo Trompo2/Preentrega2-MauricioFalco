{
 "cells": [
  {
   "cell_type": "markdown",
   "id": "89fa94f9-ce9e-4e2f-bbd6-c1510aca5b47",
   "metadata": {},
   "source": [
    "# Chatbot escolar interactivo"
   ]
  },
  {
   "cell_type": "markdown",
   "id": "114d69b3-e46b-4909-8571-cc60506b1d87",
   "metadata": {},
   "source": [
    "# Presentación del Problema"
   ]
  },
  {
   "cell_type": "markdown",
   "id": "c88b6159-6030-4fa4-96fb-a0a77345ec06",
   "metadata": {},
   "source": [
    "La educación tecnológica enfrenta el desafío de mantenerse actualizada y accesible para todos los estudiantes, especialmente en un mundo donde la información evoluciona rápidamente. Los alumnos requieren un acceso constante a información relevante, personalizada y actualizada sobre el contenido de la asignatura, ejercicios prácticos, y más. Sin embargo, la disponibilidad limitada de profesores fuera del horario escolar y la necesidad de respuestas rápidas a consultas específicas presentan una problemática significativa. Es crucial desarrollar una solución que ofrezca acceso instantáneo a información educativa de manera interactiva, mejorando la experiencia de aprendizaje y fomentando la autonomía de los estudiantes.\n",
    "\n"
   ]
  },
  {
   "cell_type": "markdown",
   "id": "f82305cd-466e-4bff-8da8-74b6443a92d9",
   "metadata": {},
   "source": [
    "# Desarrollo de la Propuesta de Solución"
   ]
  },
  {
   "cell_type": "markdown",
   "id": "70ea1478-bdd3-4d73-96b2-018cf8c1a94a",
   "metadata": {},
   "source": [
    "El proyecto propone el desarrollo de un chatbot escolar (Tecnito) para la asignatura de Educación Tecnológica que utiliza modelos de IA de texto-texto y texto-imagen para responder preguntas de los estudiantes en tiempo real. Este chatbot estará entrenado específicamente con el contenido de la unidad I del tercer ciclo. \n",
    "La solución se enfoca en:\n",
    "\n",
    "- Generación de Respuestas Textuales: Implementación de modelos de procesamiento de lenguaje natural (PLN) para generar respuestas informativas y precisas a consultas sobre el contenido de la unidad.\n",
    "- Generación de Contenido Visual: Uso de herramientas de IA para la creación de imágenes didácticas que faciliten la comprensión de conceptos complejos, adaptándose a consultas que requieren explicaciones visuales.\n"
   ]
  },
  {
   "cell_type": "markdown",
   "id": "bc8c244d-019d-4d5f-972d-c97f07fea86e",
   "metadata": {},
   "source": [
    "# Implementación"
   ]
  },
  {
   "cell_type": "markdown",
   "id": "bc5a681f-4d68-4504-b817-792945e0aa42",
   "metadata": {},
   "source": [
    "En el caso del chatbot \"Tecnito\", aunque se utiliza un sistema conversacional donde las preguntas y respuestas se acumulan para mantener el contexto (lo que podría sugerir una estructura más compleja que el one-shot básico), la presencia de un contexto inicial y la estructuración de la conversación para guiar las respuestas del modelo hacia el dominio específico de \"Electricidad y Magnetismo\" se alinea más estrechamente con la definición de one-shot prompting. Esto es particularmente evidente en la forma en que el contexto de la conversación se usa para guiar las respuestas del modelo, proporcionando ese \"único ejemplo\" conceptual sobre cómo se deben estructurar las respuestas dentro del dominio temático del chatbot.\n",
    "Además, Tecnito genera respuestas basadas únicamente en el conocimiento que fue incorporado. No tienen la capacidad de acceder a información externa o bases de datos en tiempo real para responder a las consultas. En cambio, dependen de la información y patrones aprendidos durante su fase de entrenamiento. El sistema de chatbot actúa como un sistema \"closed-book\" porque utiliza el modelo GPT (en este caso, especificado como \"gpt-3.5-turbo\") para generar respuestas basadas en el contexto y las preguntas proporcionadas, sin buscar información adicional fuera."
   ]
  },
  {
   "cell_type": "markdown",
   "id": "9f30e4d5-5f66-4872-a9ff-3c09a36e3eb3",
   "metadata": {},
   "source": [
    "# Código"
   ]
  },
  {
   "cell_type": "code",
   "execution_count": 1,
   "id": "59911014-fb9c-449d-ae75-f1582ef3880e",
   "metadata": {},
   "outputs": [
    {
     "ename": "SyntaxError",
     "evalue": "invalid syntax (716905790.py, line 4)",
     "output_type": "error",
     "traceback": [
      "\u001b[1;36m  Cell \u001b[1;32mIn[1], line 4\u001b[1;36m\u001b[0m\n\u001b[1;33m    openai. = ''\u001b[0m\n\u001b[1;37m            ^\u001b[0m\n\u001b[1;31mSyntaxError\u001b[0m\u001b[1;31m:\u001b[0m invalid syntax\n"
     ]
    }
   ],
   "source": [
    "import openai\n",
    "\n",
    "# Clave de API de OpenAI. Esta escrito con errores para poder subirlo\n",
    "openai. = ''\n",
    "\n",
    "# Contenido de la unidad\n",
    "contenido = \"El magnetismo, la electricidad y el electromagnetismo son fundamentos de la física que juegan un papel crucial en la tecnología moderna, desde la generación de energía hasta las telecomunicaciones. La comprensión de estos fenómenos se ha desarrollado a lo largo de siglos de investigación científica, con contribuciones significativas de figuras como Michael Faraday y James Clerk Maxwell. [...]\"  # Asumir que el contenido completo está aquí.\n",
    "\n",
    "# Conversación inicial \n",
    "conversacion = [\n",
    "    {\"role\": \"system\", \"content\": contenido},\n",
    "    \n",
    "]\n",
    "\n",
    "while True:\n",
    "    # Tecnito pregunta\n",
    "    accion_usuario = input(\"¿Quieres hacer una pregunta o necesitas que haga una imagen explicativa de algún tema relacionado con el electromagnetismo? (S/N/I): \").lower()\n",
    "\n",
    "    if accion_usuario == 's':\n",
    "        # Solicita al usuario hacer una pregunta sobre electromagnetismo\n",
    "        pregunta_usuario = input(\"Soy Tecnito, pregúntame lo que quieras sobre electromagnetismo: \")\n",
    "        # Agregar la pregunta del usuario a la conversación\n",
    "        conversacion.append({\"role\": \"user\", \"content\": pregunta_usuario})\n",
    "\n",
    "        try:\n",
    "            # Realiza la solicitud al modelo para obtener una respuesta textual\n",
    "            respuesta = openai.ChatCompletion.create(\n",
    "                model=\"gpt-3.5-turbo\",\n",
    "                messages=conversacion,\n",
    "                max_tokens=80\n",
    "            )\n",
    "            # Mostrar la respuesta del modelo\n",
    "            print(\"_\" * 80)\n",
    "            mensaje = respuesta.choices[0].message\n",
    "            print(\"{}\".format(mensaje['content']))\n",
    "        except Exception as e:\n",
    "            print(f\"Error al obtener respuesta del modelo: {e}\")\n",
    "\n",
    "    elif accion_usuario == 'i':\n",
    "        # Solicita al usuario especificar el tema sobre el cual generar una imagen\n",
    "        tema_imagen = input(\"Soy Tecnito, especifica el tema y dubujaré para vos: \")\n",
    "        try:\n",
    "            # Realiza la solicitud al modelo para generar una imagen\n",
    "            respuesta_imagen = openai.Image.create(\n",
    "                prompt=tema_imagen,\n",
    "                n=1,\n",
    "                size=\"512x512\"\n",
    "            )\n",
    "            # Suponiendo que la API devuelva una URL de la imagen, mostrarla\n",
    "            url_imagen = respuesta_imagen.data[0].url  # Asumir el formato de respuesta adecuado\n",
    "            print(\"Soy Tecnito y ésta es tu imagen, espero te sirva: \", url_imagen)\n",
    "        except Exception as e:\n",
    "            print(f\"Error al obtener imagen: {e}\")\n",
    "    else:\n",
    "        print(\"Chauuu, te saluda Tecnito\")\n",
    "        break\n"
   ]
  },
  {
   "cell_type": "code",
   "execution_count": null,
   "id": "a5afb03e-3057-4eb7-9bca-2dc647072a95",
   "metadata": {},
   "outputs": [],
   "source": []
  }
 ],
 "metadata": {
  "kernelspec": {
   "display_name": "Python 3 (ipykernel)",
   "language": "python",
   "name": "python3"
  },
  "language_info": {
   "codemirror_mode": {
    "name": "ipython",
    "version": 3
   },
   "file_extension": ".py",
   "mimetype": "text/x-python",
   "name": "python",
   "nbconvert_exporter": "python",
   "pygments_lexer": "ipython3",
   "version": "3.12.2"
  }
 },
 "nbformat": 4,
 "nbformat_minor": 5
}
